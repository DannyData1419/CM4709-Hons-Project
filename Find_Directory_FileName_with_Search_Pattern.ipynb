{
  "cells": [
    {
      "cell_type": "markdown",
      "metadata": {
        "id": "view-in-github",
        "colab_type": "text"
      },
      "source": [
        "<a href=\"https://colab.research.google.com/github/DannyData1419/CM4709-Hons-Project/blob/main/Find_Directory_FileName_with_Search_Pattern.ipynb\" target=\"_parent\"><img src=\"https://colab.research.google.com/assets/colab-badge.svg\" alt=\"Open In Colab\"/></a>"
      ]
    },
    {
      "cell_type": "markdown",
      "source": [
        "# Find Directory FileName with Search Pattern"
      ],
      "metadata": {
        "id": "Dr68G5c-Wfi9"
      }
    },
    {
      "cell_type": "code",
      "source": [
        "import os\n",
        "\n",
        "def find_matching_files(directory_path, search_patterns, limit=100):\n",
        "  \"\"\"\n",
        "  Find files in directory that contain any substring from search_patterns in their filenames.\n",
        "\n",
        "  Args:\n",
        "  - directory_path (str): The path to the directory to search.\n",
        "  - search_patterns (list): A list of strings to search for in the filenames.\n",
        "  - limit (int): Maximum number of files to retrieve. Defaults to 100.\n",
        "\n",
        "  Returns:\n",
        "  - List of strings: Paths of the files that match the criteria.\n",
        "  \"\"\"\n",
        "  pdf_files = []\n",
        "  count = 0\n",
        "\n",
        "  for root, dirs, files in os.walk(directory_path):\n",
        "      for file in files:\n",
        "          filename = file.split('.')[0]\n",
        "          if file.lower().endswith(\".pdf\"):\n",
        "            if any(item.lower() in filename.lower() for item in search_patterns):\n",
        "                pdf_files.append(os.path.join(root, file))\n",
        "                count += 1\n",
        "                if count == limit:\n",
        "                    return pdf_files\n",
        "\n",
        "  return pdf_files"
      ],
      "metadata": {
        "id": "Ord4zuTlx_Rd"
      },
      "execution_count": 2,
      "outputs": []
    },
    {
      "cell_type": "markdown",
      "source": [
        "### Search pdf in specific directory"
      ],
      "metadata": {
        "id": "H0oFqrl0fR7C"
      }
    },
    {
      "cell_type": "code",
      "source": [
        "# find_matching_files usage:\n",
        "directory_path = '/content/gdrive/MyDrive/Datasets/directory tester' # Specific folder\n",
        "search_patterns = [\"One\", \"Two\", \"Three\", \"190718\", \"Four\", \"Five\"] # Replace with CONTRACTS folder\n",
        "limit = 100\n",
        "pdf_files = find_matching_files(directory_path, search_patterns, limit)\n",
        "\n",
        "for pdf in pdf_files:\n",
        "    print(pdf)"
      ],
      "metadata": {
        "colab": {
          "base_uri": "https://localhost:8080/"
        },
        "outputId": "8872de34-d34f-40a6-db24-c12bb640966f",
        "id": "iunb8QEhfOH5"
      },
      "execution_count": null,
      "outputs": [
        {
          "output_type": "stream",
          "name": "stdout",
          "text": [
            "/content/gdrive/MyDrive/Datasets/directory tester/sub folder one/One.pdf\n",
            "/content/gdrive/MyDrive/Datasets/directory tester/sub folder one/One 190718 One.pdf\n",
            "/content/gdrive/MyDrive/Datasets/directory tester/sub folder one/One-190718-One.pdf\n",
            "/content/gdrive/MyDrive/Datasets/directory tester/sub folder two/Two.pdf\n",
            "/content/gdrive/MyDrive/Datasets/directory tester/sub folder three/Three.pdf\n",
            "/content/gdrive/MyDrive/Datasets/directory tester/sub folder four/Four.pdf\n",
            "/content/gdrive/MyDrive/Datasets/directory tester/sub folder five/Five.pdf\n"
          ]
        }
      ]
    },
    {
      "cell_type": "markdown",
      "source": [
        "### Search pdf from root directory"
      ],
      "metadata": {
        "id": "P6-kgviLfZss"
      }
    },
    {
      "cell_type": "code",
      "source": [
        "# find_matching_files usage:\n",
        "directory_path = '/content/gdrive/MyDrive' # Root folder\n",
        "search_patterns = [\"One\", \"Two\", \"Three\", \"190718\", \"Four\", \"Five\"]\n",
        "limit = 100\n",
        "pdf_files = find_matching_files(directory_path, search_patterns, limit)\n",
        "\n",
        "for pdf in pdf_files:\n",
        "    print(pdf)"
      ],
      "metadata": {
        "colab": {
          "base_uri": "https://localhost:8080/"
        },
        "id": "dcU3bPWB4QFf",
        "outputId": "de7e07b5-11e8-4801-dd63-3fb31af778b5"
      },
      "execution_count": null,
      "outputs": [
        {
          "output_type": "stream",
          "name": "stdout",
          "text": [
            "/content/gdrive/MyDrive/Datasets/directory tester/sub folder one/One.pdf\n",
            "/content/gdrive/MyDrive/Datasets/directory tester/sub folder one/One 190718 One.pdf\n",
            "/content/gdrive/MyDrive/Datasets/directory tester/sub folder one/One-190718-One.pdf\n",
            "/content/gdrive/MyDrive/Datasets/directory tester/sub folder two/Two.pdf\n",
            "/content/gdrive/MyDrive/Datasets/directory tester/sub folder three/Three.pdf\n",
            "/content/gdrive/MyDrive/Datasets/directory tester/sub folder four/Four.pdf\n",
            "/content/gdrive/MyDrive/Datasets/directory tester/sub folder five/Five.pdf\n",
            "/content/gdrive/MyDrive/Python/CM2710 Advanced Programming/07 GRAPHIC USER INTERFACE/07 14 More GUI Components.pdf\n",
            "/content/gdrive/MyDrive/cheat sheets/SQL for everyone the definitive Guide.pdf\n"
          ]
        }
      ]
    }
  ],
  "metadata": {
    "kernelspec": {
      "display_name": "Python 3",
      "language": "python",
      "name": "python3"
    },
    "language_info": {
      "codemirror_mode": {
        "name": "ipython",
        "version": 3
      },
      "file_extension": ".py",
      "mimetype": "text/x-python",
      "name": "python",
      "nbconvert_exporter": "python",
      "pygments_lexer": "ipython3",
      "version": "3.7.6"
    },
    "colab": {
      "provenance": [],
      "include_colab_link": true
    }
  },
  "nbformat": 4,
  "nbformat_minor": 0
}